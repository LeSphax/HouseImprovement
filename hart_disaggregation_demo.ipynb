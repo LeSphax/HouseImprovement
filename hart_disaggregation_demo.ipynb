{
 "cells": [
  {
   "cell_type": "markdown",
   "metadata": {},
   "source": [
    "## Hart Algorithm Example"
   ]
  },
  {
   "cell_type": "code",
   "execution_count": 1,
   "metadata": {},
   "outputs": [],
   "source": [
    "%matplotlib inline"
   ]
  },
  {
   "cell_type": "code",
   "execution_count": 2,
   "metadata": {},
   "outputs": [],
   "source": [
    "from __future__ import print_function\n",
    "import numpy as np\n",
    "import pandas as pd\n",
    "from pylab import rcParams\n",
    "import matplotlib.pyplot as plt\n",
    "\n",
    "rcParams['figure.figsize'] = (13, 6)"
   ]
  },
  {
   "cell_type": "code",
   "execution_count": 3,
   "metadata": {},
   "outputs": [],
   "source": [
    "import nilmtk\n",
    "from nilmtk import DataSet, TimeFrame, MeterGroup, HDFDataStore\n",
    "from nilmtk.legacy.disaggregate import CombinatorialOptimisation\n",
    "from nilmtk.utils import print_dict\n",
    "from nilmtk.metrics import f1_score"
   ]
  },
  {
   "cell_type": "markdown",
   "metadata": {},
   "source": [
    "## Import Data from HDF file"
   ]
  },
  {
   "cell_type": "code",
   "execution_count": 4,
   "metadata": {},
   "outputs": [
    {
     "name": "stdout",
     "output_type": "stream",
     "text": [
      "Loaded 1 buildings\n"
     ]
    }
   ],
   "source": [
    "data = DataSet('./data/AMPds2.h5')\n",
    "print('Loaded', len(data.buildings), 'buildings')"
   ]
  },
  {
   "cell_type": "markdown",
   "metadata": {},
   "source": [
    "## Loading data for Building 1"
   ]
  },
  {
   "cell_type": "code",
   "execution_count": 5,
   "metadata": {},
   "outputs": [
    {
     "data": {
      "text/plain": [
       "MeterGroup(meters=\n",
       "  ElecMeter(instance=1, building=1, dataset='AMPds', site_meter, appliances=[])\n",
       "  ElecMeter(instance=2, building=1, dataset='AMPds', appliances=[Appliance(type='light', instance=1)])\n",
       "  ElecMeter(instance=3, building=1, dataset='AMPds', appliances=[Appliance(type='light', instance=2)])\n",
       "  ElecMeter(instance=4, building=1, dataset='AMPds', appliances=[Appliance(type='light', instance=3)])\n",
       "  ElecMeter(instance=5, building=1, dataset='AMPds', appliances=[Appliance(type='unknown', instance=1)])\n",
       "  ElecMeter(instance=6, building=1, dataset='AMPds', appliances=[Appliance(type='unknown', instance=2)])\n",
       "  ElecMeter(instance=7, building=1, dataset='AMPds', appliances=[Appliance(type='sockets', instance=1)])\n",
       "  ElecMeter(instance=8, building=1, dataset='AMPds', appliances=[Appliance(type='unknown', instance=3)])\n",
       "  ElecMeter(instance=9, building=1, dataset='AMPds', appliances=[Appliance(type='unknown', instance=4)])\n",
       "  ElecMeter(instance=10, building=1, dataset='AMPds', appliances=[Appliance(type='unknown', instance=5)])\n",
       "  ElecMeter(instance=11, building=1, dataset='AMPds', appliances=[Appliance(type='fridge', instance=1)])\n",
       "  ElecMeter(instance=12, building=1, dataset='AMPds', appliances=[Appliance(type='unknown', instance=6)])\n",
       "  ElecMeter(instance=13, building=1, dataset='AMPds', appliances=[Appliance(type='unknown', instance=7)])\n",
       "  ElecMeter(instance=14, building=1, dataset='AMPds', appliances=[Appliance(type='heat pump', instance=1)])\n",
       "  ElecMeter(instance=15, building=1, dataset='AMPds', appliances=[Appliance(type='unknown', instance=8)])\n",
       "  ElecMeter(instance=16, building=1, dataset='AMPds', appliances=[Appliance(type='light', instance=4)])\n",
       "  ElecMeter(instance=17, building=1, dataset='AMPds', appliances=[Appliance(type='sockets', instance=2)])\n",
       "  ElecMeter(instance=18, building=1, dataset='AMPds', appliances=[Appliance(type='unknown', instance=9)])\n",
       "  ElecMeter(instance=19, building=1, dataset='AMPds', appliances=[Appliance(type='television', instance=1)])\n",
       "  ElecMeter(instance=20, building=1, dataset='AMPds', appliances=[Appliance(type='sockets', instance=3)])\n",
       "  ElecMeter(instance=21, building=1, dataset='AMPds', appliances=[Appliance(type='electric oven', instance=1)])\n",
       ")"
      ]
     },
     "execution_count": 5,
     "metadata": {},
     "output_type": "execute_result"
    }
   ],
   "source": [
    "elec = data.buildings[1].elec\n",
    "elec"
   ]
  },
  {
   "cell_type": "code",
   "execution_count": 6,
   "metadata": {},
   "outputs": [
    {
     "data": {
      "text/plain": [
       "TimeFrame(start='2012-04-01 00:00:00-07:00', end='2014-03-31 23:59:00-07:00', empty=False)"
      ]
     },
     "execution_count": 6,
     "metadata": {},
     "output_type": "execute_result"
    }
   ],
   "source": [
    "elec.get_timeframe()"
   ]
  },
  {
   "cell_type": "markdown",
   "metadata": {},
   "source": [
    "## Set a window"
   ]
  },
  {
   "cell_type": "code",
   "execution_count": 7,
   "metadata": {},
   "outputs": [],
   "source": [
    "data.set_window(start='2012-04-20',end='2013-04-24')\n",
    "elec_1 = data.buildings[1].elec"
   ]
  },
  {
   "cell_type": "markdown",
   "metadata": {},
   "source": [
    "## Mains and Submeters Data"
   ]
  },
  {
   "cell_type": "code",
   "execution_count": 8,
   "metadata": {},
   "outputs": [],
   "source": [
    "mains=elec_1.mains()\n",
    "submeters=elec_1.submeters()"
   ]
  },
  {
   "cell_type": "code",
   "execution_count": 9,
   "metadata": {},
   "outputs": [
    {
     "data": {
      "text/plain": [
       "['active', 'reactive', 'apparent']"
      ]
     },
     "execution_count": 9,
     "metadata": {},
     "output_type": "execute_result"
    }
   ],
   "source": [
    "mains.available_ac_types('power')"
   ]
  },
  {
   "cell_type": "code",
   "execution_count": 10,
   "metadata": {},
   "outputs": [
    {
     "data": {
      "text/plain": [
       "['reactive', 'active', 'apparent']"
      ]
     },
     "execution_count": 10,
     "metadata": {},
     "output_type": "execute_result"
    }
   ],
   "source": [
    "submeters.available_ac_types('power')"
   ]
  },
  {
   "cell_type": "markdown",
   "metadata": {},
   "source": [
    "## Running HART_85"
   ]
  },
  {
   "cell_type": "code",
   "execution_count": 11,
   "metadata": {},
   "outputs": [],
   "source": [
    "from nilmtk.legacy.disaggregate.hart_85 import Hart85\n",
    "h = Hart85()"
   ]
  },
  {
   "cell_type": "markdown",
   "metadata": {},
   "source": [
    "#### Please set columns accordingly \n",
    "#### For REDD, since mains is 'Apparent Power'\n",
    "#### For IAWE, you may set columns to columns= [('power','active')] or to columns= [('power','active'),('power','reactive')]\n"
   ]
  },
  {
   "cell_type": "markdown",
   "metadata": {},
   "source": [
    "## Train the model"
   ]
  },
  {
   "cell_type": "code",
   "execution_count": 12,
   "metadata": {},
   "outputs": [
    {
     "name": "stdout",
     "output_type": "stream",
     "text": [
      "Finding Edges, please wait ...\n",
      "Edge detection complete.\n",
      "Creating transition frame ...\n",
      "Transition frame created.\n",
      "Creating states frame ...\n",
      "States frame created.\n",
      "Finished.\n"
     ]
    }
   ],
   "source": [
    "h.train(mains,columns=[('power','active')])"
   ]
  },
  {
   "cell_type": "markdown",
   "metadata": {},
   "source": [
    "## Save Model using export_model"
   ]
  },
  {
   "cell_type": "code",
   "execution_count": 13,
   "metadata": {},
   "outputs": [],
   "source": [
    "#h.export_model('model.pickle')"
   ]
  },
  {
   "cell_type": "markdown",
   "metadata": {},
   "source": [
    "## Import model after saving"
   ]
  },
  {
   "cell_type": "code",
   "execution_count": 14,
   "metadata": {},
   "outputs": [],
   "source": [
    "#h.import_model('model.pickle')"
   ]
  },
  {
   "cell_type": "code",
   "execution_count": 15,
   "metadata": {},
   "outputs": [
    {
     "name": "stdout",
     "output_type": "stream",
     "text": [
      "Finding Edges, please wait ...\n",
      "Edge detection complete.\n",
      "Creating transition frame ...\n",
      "Transition frame created.\n",
      "Creating states frame ...\n",
      "States frame created.\n",
      "Finished.\n",
      "Next Chunk..\n",
      "Appending mains data to datastore\n",
      "Done\n"
     ]
    }
   ],
   "source": [
    "output = HDFDataStore('output.h5', 'w')\n",
    "df=h.disaggregate(mains, output)"
   ]
  },
  {
   "cell_type": "code",
   "execution_count": 16,
   "metadata": {
    "scrolled": true
   },
   "outputs": [],
   "source": [
    "# Uncomment it for closing the Output HDFDataStore\n",
    "# output.close()"
   ]
  },
  {
   "cell_type": "markdown",
   "metadata": {},
   "source": [
    "## Returned Disaggregated Dataframe"
   ]
  },
  {
   "cell_type": "code",
   "execution_count": 17,
   "metadata": {},
   "outputs": [
    {
     "data": {
      "text/html": [
       "<div>\n",
       "<style scoped>\n",
       "    .dataframe tbody tr th:only-of-type {\n",
       "        vertical-align: middle;\n",
       "    }\n",
       "\n",
       "    .dataframe tbody tr th {\n",
       "        vertical-align: top;\n",
       "    }\n",
       "\n",
       "    .dataframe thead th {\n",
       "        text-align: right;\n",
       "    }\n",
       "</style>\n",
       "<table border=\"1\" class=\"dataframe\">\n",
       "  <thead>\n",
       "    <tr style=\"text-align: right;\">\n",
       "      <th></th>\n",
       "      <th>0</th>\n",
       "      <th>1</th>\n",
       "      <th>2</th>\n",
       "      <th>3</th>\n",
       "      <th>4</th>\n",
       "      <th>5</th>\n",
       "      <th>6</th>\n",
       "      <th>7</th>\n",
       "      <th>8</th>\n",
       "      <th>9</th>\n",
       "      <th>10</th>\n",
       "      <th>11</th>\n",
       "      <th>12</th>\n",
       "      <th>13</th>\n",
       "      <th>14</th>\n",
       "    </tr>\n",
       "    <tr>\n",
       "      <th>TIMESTAMP</th>\n",
       "      <th></th>\n",
       "      <th></th>\n",
       "      <th></th>\n",
       "      <th></th>\n",
       "      <th></th>\n",
       "      <th></th>\n",
       "      <th></th>\n",
       "      <th></th>\n",
       "      <th></th>\n",
       "      <th></th>\n",
       "      <th></th>\n",
       "      <th></th>\n",
       "      <th></th>\n",
       "      <th></th>\n",
       "      <th></th>\n",
       "    </tr>\n",
       "  </thead>\n",
       "  <tbody>\n",
       "    <tr>\n",
       "      <th>2013-04-23 23:56:00-07:00</th>\n",
       "      <td>0</td>\n",
       "      <td>0</td>\n",
       "      <td>0</td>\n",
       "      <td>1132</td>\n",
       "      <td>0</td>\n",
       "      <td>0</td>\n",
       "      <td>0</td>\n",
       "      <td>4823</td>\n",
       "      <td>3808</td>\n",
       "      <td>2973</td>\n",
       "      <td>0</td>\n",
       "      <td>3367</td>\n",
       "      <td>0</td>\n",
       "      <td>3609</td>\n",
       "      <td>5880</td>\n",
       "    </tr>\n",
       "    <tr>\n",
       "      <th>2013-04-23 23:57:00-07:00</th>\n",
       "      <td>0</td>\n",
       "      <td>0</td>\n",
       "      <td>0</td>\n",
       "      <td>1132</td>\n",
       "      <td>0</td>\n",
       "      <td>0</td>\n",
       "      <td>0</td>\n",
       "      <td>4823</td>\n",
       "      <td>3808</td>\n",
       "      <td>2973</td>\n",
       "      <td>0</td>\n",
       "      <td>3367</td>\n",
       "      <td>0</td>\n",
       "      <td>3609</td>\n",
       "      <td>5880</td>\n",
       "    </tr>\n",
       "    <tr>\n",
       "      <th>2013-04-23 23:58:00-07:00</th>\n",
       "      <td>0</td>\n",
       "      <td>0</td>\n",
       "      <td>0</td>\n",
       "      <td>1132</td>\n",
       "      <td>0</td>\n",
       "      <td>0</td>\n",
       "      <td>0</td>\n",
       "      <td>4823</td>\n",
       "      <td>3808</td>\n",
       "      <td>2973</td>\n",
       "      <td>0</td>\n",
       "      <td>3367</td>\n",
       "      <td>0</td>\n",
       "      <td>3609</td>\n",
       "      <td>5880</td>\n",
       "    </tr>\n",
       "    <tr>\n",
       "      <th>2013-04-23 23:59:00-07:00</th>\n",
       "      <td>0</td>\n",
       "      <td>0</td>\n",
       "      <td>0</td>\n",
       "      <td>1132</td>\n",
       "      <td>0</td>\n",
       "      <td>0</td>\n",
       "      <td>0</td>\n",
       "      <td>4823</td>\n",
       "      <td>3808</td>\n",
       "      <td>2973</td>\n",
       "      <td>0</td>\n",
       "      <td>3367</td>\n",
       "      <td>0</td>\n",
       "      <td>3609</td>\n",
       "      <td>5880</td>\n",
       "    </tr>\n",
       "    <tr>\n",
       "      <th>2013-04-24 00:00:00-07:00</th>\n",
       "      <td>0</td>\n",
       "      <td>0</td>\n",
       "      <td>0</td>\n",
       "      <td>0</td>\n",
       "      <td>0</td>\n",
       "      <td>0</td>\n",
       "      <td>0</td>\n",
       "      <td>0</td>\n",
       "      <td>0</td>\n",
       "      <td>0</td>\n",
       "      <td>0</td>\n",
       "      <td>0</td>\n",
       "      <td>0</td>\n",
       "      <td>0</td>\n",
       "      <td>0</td>\n",
       "    </tr>\n",
       "  </tbody>\n",
       "</table>\n",
       "</div>"
      ],
      "text/plain": [
       "                           0   1   2     3   4   5   6     7     8     9   10  \\\n",
       "TIMESTAMP                                                                       \n",
       "2013-04-23 23:56:00-07:00   0   0   0  1132   0   0   0  4823  3808  2973   0   \n",
       "2013-04-23 23:57:00-07:00   0   0   0  1132   0   0   0  4823  3808  2973   0   \n",
       "2013-04-23 23:58:00-07:00   0   0   0  1132   0   0   0  4823  3808  2973   0   \n",
       "2013-04-23 23:59:00-07:00   0   0   0  1132   0   0   0  4823  3808  2973   0   \n",
       "2013-04-24 00:00:00-07:00   0   0   0     0   0   0   0     0     0     0   0   \n",
       "\n",
       "                             11  12    13    14  \n",
       "TIMESTAMP                                        \n",
       "2013-04-23 23:56:00-07:00  3367   0  3609  5880  \n",
       "2013-04-23 23:57:00-07:00  3367   0  3609  5880  \n",
       "2013-04-23 23:58:00-07:00  3367   0  3609  5880  \n",
       "2013-04-23 23:59:00-07:00  3367   0  3609  5880  \n",
       "2013-04-24 00:00:00-07:00     0   0     0     0  "
      ]
     },
     "execution_count": 17,
     "metadata": {},
     "output_type": "execute_result"
    }
   ],
   "source": [
    "df.tail()"
   ]
  },
  {
   "cell_type": "markdown",
   "metadata": {},
   "source": [
    "## Since Hart is unsupervised, Find best matched appliances to disaggregated output."
   ]
  },
  {
   "cell_type": "code",
   "execution_count": 18,
   "metadata": {},
   "outputs": [
    {
     "name": "stdout",
     "output_type": "stream",
     "text": [
      "Best Matched Pair is (0, (20, 1, 'AMPds'))\n",
      "Best Matched Pair is (1, (14, 1, 'AMPds'))\n",
      "Best Matched Pair is (2, (12, 1, 'AMPds'))\n",
      "Best Matched Pair is (3, (12, 1, 'AMPds'))\n",
      "Best Matched Pair is (4, (12, 1, 'AMPds'))\n",
      "Best Matched Pair is (5, (18, 1, 'AMPds'))\n",
      "Best Matched Pair is (6, (18, 1, 'AMPds'))\n",
      "Best Matched Pair is (7, (18, 1, 'AMPds'))\n",
      "Best Matched Pair is (8, (18, 1, 'AMPds'))\n",
      "Best Matched Pair is (9, (18, 1, 'AMPds'))\n",
      "Best Matched Pair is (10, (12, 1, 'AMPds'))\n",
      "Best Matched Pair is (11, (18, 1, 'AMPds'))\n",
      "Best Matched Pair is (12, (18, 1, 'AMPds'))\n",
      "Best Matched Pair is (13, (18, 1, 'AMPds'))\n",
      "Best Matched Pair is (14, (18, 1, 'AMPds'))\n"
     ]
    }
   ],
   "source": [
    "h.best_matched_appliance(submeters,df)"
   ]
  },
  {
   "cell_type": "markdown",
   "metadata": {},
   "source": [
    "## So it shows column 0's appliance best matches with Fridge, 1-> dish washer, 2-> washer dryer"
   ]
  },
  {
   "cell_type": "code",
   "execution_count": 19,
   "metadata": {},
   "outputs": [
    {
     "data": {
      "text/plain": [
       "MeterGroup(meters=\n",
       "  ElecMeter(instance=1, building=1, dataset='AMPds', site_meter, appliances=[])\n",
       "  ElecMeter(instance=2, building=1, dataset='AMPds', appliances=[Appliance(type='light', instance=1)])\n",
       "  ElecMeter(instance=3, building=1, dataset='AMPds', appliances=[Appliance(type='light', instance=2)])\n",
       "  ElecMeter(instance=4, building=1, dataset='AMPds', appliances=[Appliance(type='light', instance=3)])\n",
       "  ElecMeter(instance=5, building=1, dataset='AMPds', appliances=[Appliance(type='unknown', instance=1)])\n",
       "  ElecMeter(instance=6, building=1, dataset='AMPds', appliances=[Appliance(type='unknown', instance=2)])\n",
       "  ElecMeter(instance=7, building=1, dataset='AMPds', appliances=[Appliance(type='sockets', instance=1)])\n",
       "  ElecMeter(instance=8, building=1, dataset='AMPds', appliances=[Appliance(type='unknown', instance=3)])\n",
       "  ElecMeter(instance=9, building=1, dataset='AMPds', appliances=[Appliance(type='unknown', instance=4)])\n",
       "  ElecMeter(instance=10, building=1, dataset='AMPds', appliances=[Appliance(type='unknown', instance=5)])\n",
       "  ElecMeter(instance=11, building=1, dataset='AMPds', appliances=[Appliance(type='fridge', instance=1)])\n",
       "  ElecMeter(instance=12, building=1, dataset='AMPds', appliances=[Appliance(type='unknown', instance=6)])\n",
       "  ElecMeter(instance=13, building=1, dataset='AMPds', appliances=[Appliance(type='unknown', instance=7)])\n",
       "  ElecMeter(instance=14, building=1, dataset='AMPds', appliances=[Appliance(type='heat pump', instance=1)])\n",
       "  ElecMeter(instance=15, building=1, dataset='AMPds', appliances=[Appliance(type='unknown', instance=8)])\n",
       "  ElecMeter(instance=16, building=1, dataset='AMPds', appliances=[Appliance(type='light', instance=4)])\n",
       "  ElecMeter(instance=17, building=1, dataset='AMPds', appliances=[Appliance(type='sockets', instance=2)])\n",
       "  ElecMeter(instance=18, building=1, dataset='AMPds', appliances=[Appliance(type='unknown', instance=9)])\n",
       "  ElecMeter(instance=19, building=1, dataset='AMPds', appliances=[Appliance(type='television', instance=1)])\n",
       "  ElecMeter(instance=20, building=1, dataset='AMPds', appliances=[Appliance(type='sockets', instance=3)])\n",
       "  ElecMeter(instance=21, building=1, dataset='AMPds', appliances=[Appliance(type='electric oven', instance=1)])\n",
       ")"
      ]
     },
     "execution_count": 19,
     "metadata": {},
     "output_type": "execute_result"
    }
   ],
   "source": [
    "elec  "
   ]
  },
  {
   "cell_type": "markdown",
   "metadata": {},
   "source": [
    "## Comparing for Fridge"
   ]
  },
  {
   "cell_type": "code",
   "execution_count": 20,
   "metadata": {},
   "outputs": [
    {
     "name": "stderr",
     "output_type": "stream",
     "text": [
      "C:\\Tools\\Anaconda\\envs\\nilmtk-env\\lib\\site-packages\\pandas\\core\\reshape\\merge.py:617: UserWarning: merging between different levels can give an unintended result (1 levels on the left, 2 on the right)\n",
      "  warnings.warn(msg, UserWarning)\n"
     ]
    }
   ],
   "source": [
    "# First we need to take intersection of indices of dataframes of fridge and predicted (Inner Join)\n",
    "df_fridge = next(elec_1['fridge', 1].load())\n",
    "merged_df = pd.merge(df[0][0:1000], df_fridge[0:1000], left_index=True, right_index=True)"
   ]
  },
  {
   "cell_type": "code",
   "execution_count": 21,
   "metadata": {},
   "outputs": [
    {
     "data": {
      "text/html": [
       "<div>\n",
       "<style scoped>\n",
       "    .dataframe tbody tr th:only-of-type {\n",
       "        vertical-align: middle;\n",
       "    }\n",
       "\n",
       "    .dataframe tbody tr th {\n",
       "        vertical-align: top;\n",
       "    }\n",
       "\n",
       "    .dataframe thead th {\n",
       "        text-align: right;\n",
       "    }\n",
       "</style>\n",
       "<table border=\"1\" class=\"dataframe\">\n",
       "  <thead>\n",
       "    <tr style=\"text-align: right;\">\n",
       "      <th></th>\n",
       "      <th>0</th>\n",
       "      <th>(power, reactive)</th>\n",
       "      <th>(power, apparent)</th>\n",
       "      <th>(power factor, apparent)</th>\n",
       "      <th>(power, active)</th>\n",
       "    </tr>\n",
       "    <tr>\n",
       "      <th>TIMESTAMP</th>\n",
       "      <th></th>\n",
       "      <th></th>\n",
       "      <th></th>\n",
       "      <th></th>\n",
       "      <th></th>\n",
       "    </tr>\n",
       "  </thead>\n",
       "  <tbody>\n",
       "    <tr>\n",
       "      <th>2012-04-20 00:00:00-07:00</th>\n",
       "      <td>0</td>\n",
       "      <td>6.0</td>\n",
       "      <td>10.0</td>\n",
       "      <td>0.09</td>\n",
       "      <td>0.0</td>\n",
       "    </tr>\n",
       "    <tr>\n",
       "      <th>2012-04-20 00:01:00-07:00</th>\n",
       "      <td>0</td>\n",
       "      <td>6.0</td>\n",
       "      <td>10.0</td>\n",
       "      <td>0.09</td>\n",
       "      <td>0.0</td>\n",
       "    </tr>\n",
       "    <tr>\n",
       "      <th>2012-04-20 00:02:00-07:00</th>\n",
       "      <td>0</td>\n",
       "      <td>6.0</td>\n",
       "      <td>10.0</td>\n",
       "      <td>0.09</td>\n",
       "      <td>0.0</td>\n",
       "    </tr>\n",
       "    <tr>\n",
       "      <th>2012-04-20 00:03:00-07:00</th>\n",
       "      <td>0</td>\n",
       "      <td>6.0</td>\n",
       "      <td>10.0</td>\n",
       "      <td>0.09</td>\n",
       "      <td>0.0</td>\n",
       "    </tr>\n",
       "    <tr>\n",
       "      <th>2012-04-20 00:04:00-07:00</th>\n",
       "      <td>0</td>\n",
       "      <td>6.0</td>\n",
       "      <td>10.0</td>\n",
       "      <td>0.09</td>\n",
       "      <td>0.0</td>\n",
       "    </tr>\n",
       "  </tbody>\n",
       "</table>\n",
       "</div>"
      ],
      "text/plain": [
       "                           0  (power, reactive)  (power, apparent)  \\\n",
       "TIMESTAMP                                                            \n",
       "2012-04-20 00:00:00-07:00  0                6.0               10.0   \n",
       "2012-04-20 00:01:00-07:00  0                6.0               10.0   \n",
       "2012-04-20 00:02:00-07:00  0                6.0               10.0   \n",
       "2012-04-20 00:03:00-07:00  0                6.0               10.0   \n",
       "2012-04-20 00:04:00-07:00  0                6.0               10.0   \n",
       "\n",
       "                           (power factor, apparent)  (power, active)  \n",
       "TIMESTAMP                                                             \n",
       "2012-04-20 00:00:00-07:00                      0.09              0.0  \n",
       "2012-04-20 00:01:00-07:00                      0.09              0.0  \n",
       "2012-04-20 00:02:00-07:00                      0.09              0.0  \n",
       "2012-04-20 00:03:00-07:00                      0.09              0.0  \n",
       "2012-04-20 00:04:00-07:00                      0.09              0.0  "
      ]
     },
     "execution_count": 21,
     "metadata": {},
     "output_type": "execute_result"
    }
   ],
   "source": [
    "merged_df.head()"
   ]
  },
  {
   "cell_type": "code",
   "execution_count": 22,
   "metadata": {},
   "outputs": [
    {
     "data": {
      "image/png": "[encoded data removed]",
      "text/plain": [
       "<Figure size 936x432 with 1 Axes>"
      ]
     },
     "metadata": {
      "needs_background": "light"
     },
     "output_type": "display_data"
    }
   ],
   "source": [
    "merged_df[0].plot(c='r')\n",
    "merged_df['power', 'active'].plot()\n",
    "plt.legend([\"Predicted\", \"Ground truth\"]);\n",
    "plt.ylabel(\"Power (W)\")\n",
    "plt.xlabel(\"Time\");"
   ]
  },
  {
   "cell_type": "markdown",
   "metadata": {},
   "source": [
    "## Comparing for  Washer Dryer"
   ]
  },
  {
   "cell_type": "code",
   "execution_count": 23,
   "metadata": {},
   "outputs": [
    {
     "name": "stderr",
     "output_type": "stream",
     "text": [
      "C:\\Tools\\Anaconda\\envs\\nilmtk-env\\lib\\site-packages\\pandas\\core\\reshape\\merge.py:617: UserWarning: merging between different levels can give an unintended result (1 levels on the left, 2 on the right)\n",
      "  warnings.warn(msg, UserWarning)\n"
     ]
    }
   ],
   "source": [
    "df_dish_washer = next(elec_1['heat pump', 1].load())\n",
    "merged_df = pd.merge(df[1][0:1000], df_dish_washer[0:1000], left_index=True, right_index=True)"
   ]
  },
  {
   "cell_type": "code",
   "execution_count": 24,
   "metadata": {},
   "outputs": [
    {
     "data": {
      "text/html": [
       "<div>\n",
       "<style scoped>\n",
       "    .dataframe tbody tr th:only-of-type {\n",
       "        vertical-align: middle;\n",
       "    }\n",
       "\n",
       "    .dataframe tbody tr th {\n",
       "        vertical-align: top;\n",
       "    }\n",
       "\n",
       "    .dataframe thead th {\n",
       "        text-align: right;\n",
       "    }\n",
       "</style>\n",
       "<table border=\"1\" class=\"dataframe\">\n",
       "  <thead>\n",
       "    <tr style=\"text-align: right;\">\n",
       "      <th></th>\n",
       "      <th>1</th>\n",
       "      <th>(power, reactive)</th>\n",
       "      <th>(power, apparent)</th>\n",
       "      <th>(power factor, apparent)</th>\n",
       "      <th>(power, active)</th>\n",
       "    </tr>\n",
       "    <tr>\n",
       "      <th>TIMESTAMP</th>\n",
       "      <th></th>\n",
       "      <th></th>\n",
       "      <th></th>\n",
       "      <th></th>\n",
       "      <th></th>\n",
       "    </tr>\n",
       "  </thead>\n",
       "  <tbody>\n",
       "    <tr>\n",
       "      <th>2012-04-20 00:00:00-07:00</th>\n",
       "      <td>0</td>\n",
       "      <td>15.0</td>\n",
       "      <td>53.0</td>\n",
       "      <td>0.70</td>\n",
       "      <td>37.0</td>\n",
       "    </tr>\n",
       "    <tr>\n",
       "      <th>2012-04-20 00:01:00-07:00</th>\n",
       "      <td>0</td>\n",
       "      <td>15.0</td>\n",
       "      <td>53.0</td>\n",
       "      <td>0.72</td>\n",
       "      <td>38.0</td>\n",
       "    </tr>\n",
       "    <tr>\n",
       "      <th>2012-04-20 00:02:00-07:00</th>\n",
       "      <td>0</td>\n",
       "      <td>18.0</td>\n",
       "      <td>52.0</td>\n",
       "      <td>0.74</td>\n",
       "      <td>38.0</td>\n",
       "    </tr>\n",
       "    <tr>\n",
       "      <th>2012-04-20 00:03:00-07:00</th>\n",
       "      <td>0</td>\n",
       "      <td>18.0</td>\n",
       "      <td>53.0</td>\n",
       "      <td>0.72</td>\n",
       "      <td>38.0</td>\n",
       "    </tr>\n",
       "    <tr>\n",
       "      <th>2012-04-20 00:04:00-07:00</th>\n",
       "      <td>0</td>\n",
       "      <td>18.0</td>\n",
       "      <td>53.0</td>\n",
       "      <td>0.72</td>\n",
       "      <td>38.0</td>\n",
       "    </tr>\n",
       "  </tbody>\n",
       "</table>\n",
       "</div>"
      ],
      "text/plain": [
       "                           1  (power, reactive)  (power, apparent)  \\\n",
       "TIMESTAMP                                                            \n",
       "2012-04-20 00:00:00-07:00  0               15.0               53.0   \n",
       "2012-04-20 00:01:00-07:00  0               15.0               53.0   \n",
       "2012-04-20 00:02:00-07:00  0               18.0               52.0   \n",
       "2012-04-20 00:03:00-07:00  0               18.0               53.0   \n",
       "2012-04-20 00:04:00-07:00  0               18.0               53.0   \n",
       "\n",
       "                           (power factor, apparent)  (power, active)  \n",
       "TIMESTAMP                                                             \n",
       "2012-04-20 00:00:00-07:00                      0.70             37.0  \n",
       "2012-04-20 00:01:00-07:00                      0.72             38.0  \n",
       "2012-04-20 00:02:00-07:00                      0.74             38.0  \n",
       "2012-04-20 00:03:00-07:00                      0.72             38.0  \n",
       "2012-04-20 00:04:00-07:00                      0.72             38.0  "
      ]
     },
     "execution_count": 24,
     "metadata": {},
     "output_type": "execute_result"
    }
   ],
   "source": [
    "merged_df.head()"
   ]
  },
  {
   "cell_type": "code",
   "execution_count": 25,
   "metadata": {},
   "outputs": [
    {
     "data": {
      "image/png": "[encoded data removed]",
      "text/plain": [
       "<Figure size 936x432 with 1 Axes>"
      ]
     },
     "metadata": {
      "needs_background": "light"
     },
     "output_type": "display_data"
    }
   ],
   "source": [
    "ax1 = merged_df.plot(c='r')\n",
    "ax2 = merged_df['power', 'active'].plot(c='blue')\n",
    "ax1.legend([\"Predicted\", \"Ground truth\"])\n",
    "plt.ylabel(\"Power (W)\")\n",
    "plt.xlabel(\"Time\");"
   ]
  }
 ],
 "metadata": {
  "kernelspec": {
   "display_name": "Python 3",
   "language": "python",
   "name": "python3"
  },
  "language_info": {
   "codemirror_mode": {
    "name": "ipython",
    "version": 3
   },
   "file_extension": ".py",
   "mimetype": "text/x-python",
   "name": "python",
   "nbconvert_exporter": "python",
   "pygments_lexer": "ipython3",
   "version": "3.6.13"
  }
 },
 "nbformat": 4,
 "nbformat_minor": 4
}
