{
 "cells": [
  {
   "cell_type": "code",
   "execution_count": 9,
   "id": "50e72757-1e5d-41bd-bda8-fc04e96970eb",
   "metadata": {},
   "outputs": [],
   "source": [
    "import numpy as np\n",
    "import pandas as pd\n",
    "from os.path import *\n",
    "from os import getcwd\n",
    "from os import listdir\n",
    "from nilmtk.datastore import Key\n",
    "from nilmtk.measurement import LEVEL_NAMES\n",
    "from nilmtk.utils import check_directory_exists, get_datastore, get_module_directory\n",
    "from nilm_metadata import convert_yaml_to_hdf5\n",
    "from sys import getfilesystemencoding\n",
    "\n",
    "# Column name mapping\n",
    "columnNameMapping = {'POWER': ('power', 'active')}\n",
    "\n",
    "TIMESTAMP_COLUMN_NAME = \"TS\"\n",
    "TIMEZONE = \"America/Los_Angeles\"\n",
    "\n",
    "def convert_PGE(input_path, output_filename, format='HDF'):\n",
    "    \"\"\"\n",
    "    \"\"\"\n",
    "    check_directory_exists(input_path)\n",
    "    files = [f for f in listdir(input_path) if isfile(join(input_path, f)) and\n",
    "             '.csv' in f and '.swp' not in f]\n",
    "    # Sorting Lexicographically\n",
    "    files.sort()\n",
    "\n",
    "    # Remove Whole Home and put it at top\n",
    "    assert isdir(input_path)\n",
    "    store = get_datastore(output_filename, format, mode='w')\n",
    "    try:\n",
    "        for i, csv_file in enumerate(files):\n",
    "            #Find first line\n",
    "            with open(join(input_path, csv_file)) as file:\n",
    "                for line_idx, line in enumerate(file):\n",
    "                    if (line[0:4] == 'TYPE'):\n",
    "                        df = pd.read_csv(file, names=['TYPE', 'DATE','START_TIME','END_TIME','POWER','UNITS','COST','NOTES'])\n",
    "                        break\n",
    "            key = Key(building=1, meter=(i + 1))\n",
    "            print('Loading file #', (i + 1), ' : ', csv_file, '. Please wait...')\n",
    "            # \n",
    "            # # Due to fixed width, column names have spaces :(\n",
    "            df.columns = [x.replace(\" \", \"\") for x in df.columns]\n",
    "            df[TIMESTAMP_COLUMN_NAME] = df[\"DATE\"] + \"T\" + df[\"START_TIME\"]\n",
    "            df.index = pd.to_datetime(df[TIMESTAMP_COLUMN_NAME], format='%Y-%m-%dT%H:%M', utc=False).dt.tz_localize(TIMEZONE)\n",
    "            df = df.drop(TIMESTAMP_COLUMN_NAME, 1)\n",
    "            df = df.drop('TYPE', 1)\n",
    "            df = df.drop( 'DATE', 1)\n",
    "            df = df.drop('START_TIME', 1)\n",
    "            df = df.drop('END_TIME', 1)\n",
    "            df = df.drop('UNITS', 1)\n",
    "            df = df.drop('COST', 1)\n",
    "            df = df.drop('NOTES', 1)\n",
    "            print(df)\n",
    "            df = df.tz_convert(TIMEZONE)\n",
    "            df.columns = pd.MultiIndex.from_tuples(\n",
    "                [columnNameMapping[x] for x in df.columns if x in columnNameMapping],\n",
    "                names=LEVEL_NAMES\n",
    "            )\n",
    "            df = df.apply(pd.to_numeric, errors='ignore')\n",
    "            df = df.dropna()\n",
    "            df = df.astype(np.float32)\n",
    "            print(\"Adding key\", key)\n",
    "            store.put(str(key), df)\n",
    "            print(\"Done with file #\", (i + 1))\n",
    "    finally:    \n",
    "        store.close()\n",
    "    metadata_path = join(get_module_directory(), 'dataset_converters', 'ampds', 'metadata')\n",
    "    print('Processing metadata...')\n",
    "    convert_yaml_to_hdf5('./metadata', output_filename)\n",
    "    return df\n"
   ]
  },
  {
   "cell_type": "code",
   "execution_count": 10,
   "id": "f8be46ee-26a1-42a4-b035-f105e9015280",
   "metadata": {},
   "outputs": [
    {
     "name": "stdout",
     "output_type": "stream",
     "text": [
      "Loading file # 1  :  pge_electric_interval_data_0302750252_2021-02-01_to_2021-09-30.csv . Please wait...\n",
      "                           POWER\n",
      "TS                              \n",
      "2021-02-01 00:00:00-08:00   0.03\n",
      "2021-02-01 00:15:00-08:00   0.03\n",
      "2021-02-01 00:30:00-08:00   0.03\n",
      "2021-02-01 00:45:00-08:00   0.03\n",
      "2021-02-01 01:00:00-08:00   0.04\n",
      "...                          ...\n",
      "2021-09-30 22:45:00-07:00   0.11\n",
      "2021-09-30 23:00:00-07:00   0.12\n",
      "2021-09-30 23:15:00-07:00   0.12\n",
      "2021-09-30 23:30:00-07:00   0.12\n",
      "2021-09-30 23:45:00-07:00   0.12\n",
      "\n",
      "[23228 rows x 1 columns]\n",
      "Adding key /building1/elec/meter1\n",
      "Done with file # 1\n",
      "Processing metadata...\n",
      "Done converting YAML metadata to HDF5!\n"
     ]
    }
   ],
   "source": [
    "df = convert_PGE('./data/PGE', 'PGE.h5')"
   ]
  },
  {
   "cell_type": "code",
   "execution_count": 21,
   "id": "69c0f0ac-4bae-4641-8b78-5be5d47ec479",
   "metadata": {},
   "outputs": [
    {
     "name": "stdout",
     "output_type": "stream",
     "text": [
      "Plotting...\n"
     ]
    },
    {
     "data": {
      "image/png": "[encoded data removed]",
      "text/plain": [
       "<Figure size 432x288 with 1 Axes>"
      ]
     },
     "metadata": {
      "needs_background": "light"
     },
     "output_type": "display_data"
    }
   ],
   "source": [
    "import csv\n",
    "import matplotlib.pyplot as plt\n",
    "import numpy as np\n",
    "\n",
    "print('Plotting...')\n",
    "#plt.plot(df.index, df[\"power\"])\n",
    "plt.plot(df.index[22000:22300], df[\"power\"][22000:22300])\n",
    "plt.xlabel('Time')\n",
    "plt.ylabel('Power')\n",
    "# plt.ylim([0, 7])\n",
    "# indices = np.arange(0, len(df.index) -1, (len(df.index) - 1)//7)\n",
    "# print(indices)\n",
    "# plt.xticks(ticks=np.arange(8) * (len(df.index) - 1)//7, labels=np.take(df.index, indices))\n",
    "plt.show()"
   ]
  }
 ],
 "metadata": {
  "kernelspec": {
   "display_name": "Python 3",
   "language": "python",
   "name": "python3"
  },
  "language_info": {
   "codemirror_mode": {
    "name": "ipython",
    "version": 3
   },
   "file_extension": ".py",
   "mimetype": "text/x-python",
   "name": "python",
   "nbconvert_exporter": "python",
   "pygments_lexer": "ipython3",
   "version": "3.6.13"
  }
 },
 "nbformat": 4,
 "nbformat_minor": 5
}
